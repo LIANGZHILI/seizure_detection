{
 "cells": [
  {
   "cell_type": "code",
   "execution_count": 1,
   "metadata": {
    "collapsed": true
   },
   "outputs": [],
   "source": [
    "import numpy as np"
   ]
  },
  {
   "cell_type": "code",
   "execution_count": 3,
   "metadata": {
    "collapsed": true
   },
   "outputs": [],
   "source": [
    "from statsmodels.tsa.arima_model import ARMA\n",
    "def proper_model(data_ts, maxLag): \n",
    "    init_bic = float(\"inf\")\n",
    "    init_p = 0\n",
    "    init_properModel = None\n",
    "    for p in np.arange(maxLag + 1):\n",
    "        model = ARMA(data_ts, order=(p, 0))\n",
    "        try:\n",
    "            results_ARMA = model.fit(disp=-1, method='css')\n",
    "        except:\n",
    "            continue\n",
    "        bic = results_ARMA.bic\n",
    "        if bic < init_bic:\n",
    "            init_p = p\n",
    "            init_properModel = results_ARMA\n",
    "            init_bic = bic\n",
    "    if(init_p<maxLag):\n",
    "        para = np.concatenate([[0]*(maxLag-init_p), init_properModel.arparams])\n",
    "    else:\n",
    "        para = init_properModel.arparams\n",
    "    return para"
   ]
  },
  {
   "cell_type": "code",
   "execution_count": 4,
   "metadata": {
    "collapsed": false
   },
   "outputs": [],
   "source": [
    "import random\n",
    "random.seed(0)\n",
    "test_idx = random.sample(range(1,101), 20)\n",
    "idx = list(set(range(1,101)) - set(test_idx))\n",
    "train_idx = random.sample(idx, 70)\n",
    "val_idx = list(set(idx) - set(train_idx))"
   ]
  },
  {
   "cell_type": "code",
   "execution_count": 5,
   "metadata": {
    "collapsed": false
   },
   "outputs": [
    {
     "name": "stderr",
     "output_type": "stream",
     "text": [
      "D:\\Anaconda3\\envs\\TSA\\lib\\site-packages\\scipy\\signal\\signaltools.py:1341: FutureWarning: Using a non-tuple sequence for multidimensional indexing is deprecated; use `arr[tuple(seq)]` instead of `arr[seq]`. In the future this will be interpreted as an array index, `arr[np.array(seq)]`, which will result either in an error or a different result.\n",
      "  out_full[ind] += zi\n",
      "D:\\Anaconda3\\envs\\TSA\\lib\\site-packages\\scipy\\signal\\signaltools.py:1344: FutureWarning: Using a non-tuple sequence for multidimensional indexing is deprecated; use `arr[tuple(seq)]` instead of `arr[seq]`. In the future this will be interpreted as an array index, `arr[np.array(seq)]`, which will result either in an error or a different result.\n",
      "  out = out_full[ind]\n",
      "D:\\Anaconda3\\envs\\TSA\\lib\\site-packages\\scipy\\signal\\signaltools.py:1350: FutureWarning: Using a non-tuple sequence for multidimensional indexing is deprecated; use `arr[tuple(seq)]` instead of `arr[seq]`. In the future this will be interpreted as an array index, `arr[np.array(seq)]`, which will result either in an error or a different result.\n",
      "  zf = out_full[ind]\n",
      "D:\\Anaconda3\\envs\\TSA\\lib\\site-packages\\statsmodels\\base\\model.py:508: ConvergenceWarning: Maximum Likelihood optimization failed to converge. Check mle_retvals\n",
      "  \"Check mle_retvals\", ConvergenceWarning)\n",
      "D:\\Anaconda3\\envs\\TSA\\lib\\site-packages\\statsmodels\\base\\model.py:508: ConvergenceWarning: Maximum Likelihood optimization failed to converge. Check mle_retvals\n",
      "  \"Check mle_retvals\", ConvergenceWarning)\n",
      "D:\\Anaconda3\\envs\\TSA\\lib\\site-packages\\statsmodels\\base\\model.py:508: ConvergenceWarning: Maximum Likelihood optimization failed to converge. Check mle_retvals\n",
      "  \"Check mle_retvals\", ConvergenceWarning)\n"
     ]
    },
    {
     "name": "stdout",
     "output_type": "stream",
     "text": [
      "*\n"
     ]
    },
    {
     "name": "stderr",
     "output_type": "stream",
     "text": [
      "D:\\Anaconda3\\envs\\TSA\\lib\\site-packages\\statsmodels\\base\\model.py:508: ConvergenceWarning: Maximum Likelihood optimization failed to converge. Check mle_retvals\n",
      "  \"Check mle_retvals\", ConvergenceWarning)\n",
      "D:\\Anaconda3\\envs\\TSA\\lib\\site-packages\\statsmodels\\base\\model.py:508: ConvergenceWarning: Maximum Likelihood optimization failed to converge. Check mle_retvals\n",
      "  \"Check mle_retvals\", ConvergenceWarning)\n"
     ]
    },
    {
     "name": "stdout",
     "output_type": "stream",
     "text": [
      "*\n",
      "*\n"
     ]
    },
    {
     "name": "stderr",
     "output_type": "stream",
     "text": [
      "D:\\Anaconda3\\envs\\TSA\\lib\\site-packages\\statsmodels\\base\\model.py:508: ConvergenceWarning: Maximum Likelihood optimization failed to converge. Check mle_retvals\n",
      "  \"Check mle_retvals\", ConvergenceWarning)\n",
      "D:\\Anaconda3\\envs\\TSA\\lib\\site-packages\\statsmodels\\base\\model.py:508: ConvergenceWarning: Maximum Likelihood optimization failed to converge. Check mle_retvals\n",
      "  \"Check mle_retvals\", ConvergenceWarning)\n",
      "D:\\Anaconda3\\envs\\TSA\\lib\\site-packages\\statsmodels\\base\\model.py:508: ConvergenceWarning: Maximum Likelihood optimization failed to converge. Check mle_retvals\n",
      "  \"Check mle_retvals\", ConvergenceWarning)\n",
      "D:\\Anaconda3\\envs\\TSA\\lib\\site-packages\\statsmodels\\base\\model.py:508: ConvergenceWarning: Maximum Likelihood optimization failed to converge. Check mle_retvals\n",
      "  \"Check mle_retvals\", ConvergenceWarning)\n",
      "D:\\Anaconda3\\envs\\TSA\\lib\\site-packages\\statsmodels\\base\\model.py:508: ConvergenceWarning: Maximum Likelihood optimization failed to converge. Check mle_retvals\n",
      "  \"Check mle_retvals\", ConvergenceWarning)\n",
      "D:\\Anaconda3\\envs\\TSA\\lib\\site-packages\\statsmodels\\base\\model.py:508: ConvergenceWarning: Maximum Likelihood optimization failed to converge. Check mle_retvals\n",
      "  \"Check mle_retvals\", ConvergenceWarning)\n",
      "D:\\Anaconda3\\envs\\TSA\\lib\\site-packages\\statsmodels\\base\\model.py:508: ConvergenceWarning: Maximum Likelihood optimization failed to converge. Check mle_retvals\n",
      "  \"Check mle_retvals\", ConvergenceWarning)\n"
     ]
    },
    {
     "name": "stdout",
     "output_type": "stream",
     "text": [
      "*\n"
     ]
    },
    {
     "name": "stderr",
     "output_type": "stream",
     "text": [
      "D:\\Anaconda3\\envs\\TSA\\lib\\site-packages\\statsmodels\\regression\\linear_model.py:1283: RuntimeWarning: invalid value encountered in sqrt\n",
      "  return rho, np.sqrt(sigmasq)\n",
      "D:\\Anaconda3\\envs\\TSA\\lib\\site-packages\\statsmodels\\base\\model.py:508: ConvergenceWarning: Maximum Likelihood optimization failed to converge. Check mle_retvals\n",
      "  \"Check mle_retvals\", ConvergenceWarning)\n",
      "D:\\Anaconda3\\envs\\TSA\\lib\\site-packages\\statsmodels\\base\\model.py:508: ConvergenceWarning: Maximum Likelihood optimization failed to converge. Check mle_retvals\n",
      "  \"Check mle_retvals\", ConvergenceWarning)\n"
     ]
    }
   ],
   "source": [
    "Maxorder = 25\n",
    "dat_health = np.zeros([140, Maxorder])\n",
    "for i in range(70):\n",
    "    t = str(train_idx[i]).zfill(3)\n",
    "    a = np.loadtxt('C:/Users/gong/Documents/learning/TSA/project/Data/Z_Healthy/c_Z'+t+'.txt')\n",
    "    para = proper_model(a, Maxorder)\n",
    "    dat_health[i,:]=para\n",
    "print(\"*\")\n",
    "for i in range(70):\n",
    "    t = str(train_idx[i]).zfill(3)\n",
    "    a = np.loadtxt('C:/Users/gong/Documents/learning/TSA/project/Data/O_Healthy/c_O'+t+'.txt')\n",
    "    para = proper_model(a, Maxorder)\n",
    "    dat_health[i+70,:]=para\n",
    "print(\"*\")\n",
    "dat_inter = np.zeros([140, 25])\n",
    "for i in range(70):\n",
    "    t = str(train_idx[i]).zfill(3)\n",
    "    a = np.loadtxt('C:/Users/gong/Documents/learning/TSA/project/Data/F_Interictal/c_F'+t+'.txt')\n",
    "    para = proper_model(a, Maxorder)\n",
    "    dat_inter[i,:]=para\n",
    "print(\"*\")\n",
    "for i in range(70):\n",
    "    t = str(train_idx[i]).zfill(3)\n",
    "    a = np.loadtxt('C:/Users/gong/Documents/learning/TSA/project/Data/N_Interictal/c_N'+t+'.txt')\n",
    "    para = proper_model(a, Maxorder)\n",
    "    dat_inter[i+70,:]=para\n",
    "print(\"*\")\n",
    "dat_ict = np.zeros([70, Maxorder])\n",
    "for i in range(70):\n",
    "    t = str(train_idx[i]).zfill(3)\n",
    "    a = np.loadtxt('C:/Users/gong/Documents/learning/TSA/project/Data/S_Ictal/c_S'+t+'.txt')\n",
    "    para = proper_model(a, Maxorder)\n",
    "    dat_ict[i,:]=para"
   ]
  },
  {
   "cell_type": "code",
   "execution_count": 38,
   "metadata": {
    "collapsed": false
   },
   "outputs": [
    {
     "name": "stderr",
     "output_type": "stream",
     "text": [
      "D:\\Anaconda3\\envs\\TSA\\lib\\site-packages\\scipy\\signal\\signaltools.py:1341: FutureWarning: Using a non-tuple sequence for multidimensional indexing is deprecated; use `arr[tuple(seq)]` instead of `arr[seq]`. In the future this will be interpreted as an array index, `arr[np.array(seq)]`, which will result either in an error or a different result.\n",
      "  out_full[ind] += zi\n",
      "D:\\Anaconda3\\envs\\TSA\\lib\\site-packages\\scipy\\signal\\signaltools.py:1344: FutureWarning: Using a non-tuple sequence for multidimensional indexing is deprecated; use `arr[tuple(seq)]` instead of `arr[seq]`. In the future this will be interpreted as an array index, `arr[np.array(seq)]`, which will result either in an error or a different result.\n",
      "  out = out_full[ind]\n",
      "D:\\Anaconda3\\envs\\TSA\\lib\\site-packages\\scipy\\signal\\signaltools.py:1350: FutureWarning: Using a non-tuple sequence for multidimensional indexing is deprecated; use `arr[tuple(seq)]` instead of `arr[seq]`. In the future this will be interpreted as an array index, `arr[np.array(seq)]`, which will result either in an error or a different result.\n",
      "  zf = out_full[ind]\n"
     ]
    },
    {
     "name": "stdout",
     "output_type": "stream",
     "text": [
      "*\n"
     ]
    },
    {
     "name": "stderr",
     "output_type": "stream",
     "text": [
      "D:\\Anaconda3\\envs\\TSA\\lib\\site-packages\\statsmodels\\base\\model.py:508: ConvergenceWarning: Maximum Likelihood optimization failed to converge. Check mle_retvals\n",
      "  \"Check mle_retvals\", ConvergenceWarning)\n"
     ]
    },
    {
     "name": "stdout",
     "output_type": "stream",
     "text": [
      "*\n"
     ]
    },
    {
     "name": "stderr",
     "output_type": "stream",
     "text": [
      "D:\\Anaconda3\\envs\\TSA\\lib\\site-packages\\statsmodels\\base\\model.py:508: ConvergenceWarning: Maximum Likelihood optimization failed to converge. Check mle_retvals\n",
      "  \"Check mle_retvals\", ConvergenceWarning)\n",
      "D:\\Anaconda3\\envs\\TSA\\lib\\site-packages\\statsmodels\\base\\model.py:508: ConvergenceWarning: Maximum Likelihood optimization failed to converge. Check mle_retvals\n",
      "  \"Check mle_retvals\", ConvergenceWarning)\n",
      "D:\\Anaconda3\\envs\\TSA\\lib\\site-packages\\statsmodels\\base\\model.py:508: ConvergenceWarning: Maximum Likelihood optimization failed to converge. Check mle_retvals\n",
      "  \"Check mle_retvals\", ConvergenceWarning)\n"
     ]
    },
    {
     "name": "stdout",
     "output_type": "stream",
     "text": [
      "*\n",
      "*\n"
     ]
    },
    {
     "name": "stderr",
     "output_type": "stream",
     "text": [
      "D:\\Anaconda3\\envs\\TSA\\lib\\site-packages\\statsmodels\\base\\model.py:508: ConvergenceWarning: Maximum Likelihood optimization failed to converge. Check mle_retvals\n",
      "  \"Check mle_retvals\", ConvergenceWarning)\n"
     ]
    }
   ],
   "source": [
    "Maxorder = 25\n",
    "dat_health_t = np.zeros([20, Maxorder])\n",
    "for i in range(10):\n",
    "    t = str(val_idx[i]).zfill(3)\n",
    "    a = np.loadtxt('C:/Users/gong/Documents/learning/TSA/project/Data/Z_Healthy/c_Z'+t+'.txt')\n",
    "    para = proper_model(a, Maxorder)\n",
    "    dat_health_t[i,:]=para\n",
    "print(\"*\")\n",
    "for i in range(10):\n",
    "    t = str(val_idx[i]).zfill(3)\n",
    "    a = np.loadtxt('C:/Users/gong/Documents/learning/TSA/project/Data/O_Healthy/c_O'+t+'.txt')\n",
    "    para = proper_model(a, Maxorder)\n",
    "    dat_health_t[i+10,:]=para\n",
    "print(\"*\")\n",
    "dat_inter_t = np.zeros([20, 25])\n",
    "for i in range(10):\n",
    "    t = str(val_idx[i]).zfill(3)\n",
    "    a = np.loadtxt('C:/Users/gong/Documents/learning/TSA/project/Data/F_Interictal/c_F'+t+'.txt')\n",
    "    para = proper_model(a, Maxorder)\n",
    "    dat_inter_t[i,:]=para\n",
    "print(\"*\")\n",
    "for i in range(10):\n",
    "    t = str(val_idx[i]).zfill(3)\n",
    "    a = np.loadtxt('C:/Users/gong/Documents/learning/TSA/project/Data/N_Interictal/c_N'+t+'.txt')\n",
    "    para = proper_model(a, Maxorder)\n",
    "    dat_inter_t[i+10,:]=para\n",
    "print(\"*\")\n",
    "dat_ict_t = np.zeros([10, Maxorder])\n",
    "for i in range(10):\n",
    "    t = str(val_idx[i]).zfill(3)\n",
    "    a = np.loadtxt('C:/Users/gong/Documents/learning/TSA/project/Data/S_Ictal/c_S'+t+'.txt')\n",
    "    para = proper_model(a, Maxorder)\n",
    "    dat_ict_t[i,:]=para"
   ]
  },
  {
   "cell_type": "code",
   "execution_count": 69,
   "metadata": {
    "collapsed": false
   },
   "outputs": [
    {
     "name": "stderr",
     "output_type": "stream",
     "text": [
      "D:\\Anaconda3\\envs\\TSA\\lib\\site-packages\\scipy\\signal\\signaltools.py:1341: FutureWarning: Using a non-tuple sequence for multidimensional indexing is deprecated; use `arr[tuple(seq)]` instead of `arr[seq]`. In the future this will be interpreted as an array index, `arr[np.array(seq)]`, which will result either in an error or a different result.\n",
      "  out_full[ind] += zi\n",
      "D:\\Anaconda3\\envs\\TSA\\lib\\site-packages\\scipy\\signal\\signaltools.py:1344: FutureWarning: Using a non-tuple sequence for multidimensional indexing is deprecated; use `arr[tuple(seq)]` instead of `arr[seq]`. In the future this will be interpreted as an array index, `arr[np.array(seq)]`, which will result either in an error or a different result.\n",
      "  out = out_full[ind]\n",
      "D:\\Anaconda3\\envs\\TSA\\lib\\site-packages\\scipy\\signal\\signaltools.py:1350: FutureWarning: Using a non-tuple sequence for multidimensional indexing is deprecated; use `arr[tuple(seq)]` instead of `arr[seq]`. In the future this will be interpreted as an array index, `arr[np.array(seq)]`, which will result either in an error or a different result.\n",
      "  zf = out_full[ind]\n",
      "D:\\Anaconda3\\envs\\TSA\\lib\\site-packages\\statsmodels\\base\\model.py:508: ConvergenceWarning: Maximum Likelihood optimization failed to converge. Check mle_retvals\n",
      "  \"Check mle_retvals\", ConvergenceWarning)\n",
      "D:\\Anaconda3\\envs\\TSA\\lib\\site-packages\\statsmodels\\base\\model.py:508: ConvergenceWarning: Maximum Likelihood optimization failed to converge. Check mle_retvals\n",
      "  \"Check mle_retvals\", ConvergenceWarning)\n"
     ]
    },
    {
     "name": "stdout",
     "output_type": "stream",
     "text": [
      "*\n"
     ]
    },
    {
     "name": "stderr",
     "output_type": "stream",
     "text": [
      "D:\\Anaconda3\\envs\\TSA\\lib\\site-packages\\statsmodels\\base\\model.py:508: ConvergenceWarning: Maximum Likelihood optimization failed to converge. Check mle_retvals\n",
      "  \"Check mle_retvals\", ConvergenceWarning)\n"
     ]
    },
    {
     "name": "stdout",
     "output_type": "stream",
     "text": [
      "*\n"
     ]
    },
    {
     "name": "stderr",
     "output_type": "stream",
     "text": [
      "D:\\Anaconda3\\envs\\TSA\\lib\\site-packages\\statsmodels\\base\\model.py:508: ConvergenceWarning: Maximum Likelihood optimization failed to converge. Check mle_retvals\n",
      "  \"Check mle_retvals\", ConvergenceWarning)\n",
      "D:\\Anaconda3\\envs\\TSA\\lib\\site-packages\\statsmodels\\base\\model.py:508: ConvergenceWarning: Maximum Likelihood optimization failed to converge. Check mle_retvals\n",
      "  \"Check mle_retvals\", ConvergenceWarning)\n"
     ]
    },
    {
     "name": "stdout",
     "output_type": "stream",
     "text": [
      "*\n"
     ]
    },
    {
     "name": "stderr",
     "output_type": "stream",
     "text": [
      "D:\\Anaconda3\\envs\\TSA\\lib\\site-packages\\statsmodels\\base\\model.py:508: ConvergenceWarning: Maximum Likelihood optimization failed to converge. Check mle_retvals\n",
      "  \"Check mle_retvals\", ConvergenceWarning)\n",
      "D:\\Anaconda3\\envs\\TSA\\lib\\site-packages\\statsmodels\\base\\model.py:508: ConvergenceWarning: Maximum Likelihood optimization failed to converge. Check mle_retvals\n",
      "  \"Check mle_retvals\", ConvergenceWarning)\n",
      "D:\\Anaconda3\\envs\\TSA\\lib\\site-packages\\statsmodels\\base\\model.py:508: ConvergenceWarning: Maximum Likelihood optimization failed to converge. Check mle_retvals\n",
      "  \"Check mle_retvals\", ConvergenceWarning)\n"
     ]
    },
    {
     "name": "stdout",
     "output_type": "stream",
     "text": [
      "*\n"
     ]
    },
    {
     "name": "stderr",
     "output_type": "stream",
     "text": [
      "D:\\Anaconda3\\envs\\TSA\\lib\\site-packages\\statsmodels\\base\\model.py:508: ConvergenceWarning: Maximum Likelihood optimization failed to converge. Check mle_retvals\n",
      "  \"Check mle_retvals\", ConvergenceWarning)\n",
      "D:\\Anaconda3\\envs\\TSA\\lib\\site-packages\\statsmodels\\base\\model.py:508: ConvergenceWarning: Maximum Likelihood optimization failed to converge. Check mle_retvals\n",
      "  \"Check mle_retvals\", ConvergenceWarning)\n"
     ]
    }
   ],
   "source": [
    "Maxorder = 25\n",
    "dat_health_test = np.zeros([40, Maxorder])\n",
    "for i in range(20):\n",
    "    t = str(test_idx[i]).zfill(3)\n",
    "    a = np.loadtxt('C:/Users/gong/Documents/learning/TSA/project/Data/Z_Healthy/c_Z'+t+'.txt')\n",
    "    para = proper_model(a, Maxorder)\n",
    "    dat_health_test[i,:]=para\n",
    "print(\"*\")\n",
    "for i in range(20):\n",
    "    t = str(test_idx[i]).zfill(3)\n",
    "    a = np.loadtxt('C:/Users/gong/Documents/learning/TSA/project/Data/O_Healthy/c_O'+t+'.txt')\n",
    "    para = proper_model(a, Maxorder)\n",
    "    dat_health_test[i+20,:]=para\n",
    "print(\"*\")\n",
    "dat_inter_test = np.zeros([40, 25])\n",
    "for i in range(20):\n",
    "    t = str(test_idx[i]).zfill(3)\n",
    "    a = np.loadtxt('C:/Users/gong/Documents/learning/TSA/project/Data/F_Interictal/c_F'+t+'.txt')\n",
    "    para = proper_model(a, Maxorder)\n",
    "    dat_inter_test[i,:]=para\n",
    "print(\"*\")\n",
    "for i in range(20):\n",
    "    t = str(test_idx[i]).zfill(3)\n",
    "    a = np.loadtxt('C:/Users/gong/Documents/learning/TSA/project/Data/N_Interictal/c_N'+t+'.txt')\n",
    "    para = proper_model(a, Maxorder)\n",
    "    dat_inter_test[i+10,:]=para\n",
    "print(\"*\")\n",
    "dat_ict_test = np.zeros([20, Maxorder])\n",
    "for i in range(20):\n",
    "    t = str(test_idx[i]).zfill(3)\n",
    "    a = np.loadtxt('C:/Users/gong/Documents/learning/TSA/project/Data/S_Ictal/c_S'+t+'.txt')\n",
    "    para = proper_model(a, Maxorder)\n",
    "    dat_ict_test[i,:]=para"
   ]
  },
  {
   "cell_type": "code",
   "execution_count": 10,
   "metadata": {
    "collapsed": false
   },
   "outputs": [],
   "source": [
    "X = np.concatenate([dat_health,dat_inter,dat_ict])\n",
    "y = np.concatenate([[0]*140,[1]*140,[2]*70])\n",
    "X_t = np.concatenate([dat_health_t,dat_inter_t,dat_ict_t])\n",
    "y_t = np.concatenate([[0]*20,[1]*20,[2]*10])\n",
    "X_test = np.concatenate([dat_health_test,dat_inter_test,dat_ict_test])\n",
    "y_test = np.concatenate([[0]*40,[1]*40,[2]*20])"
   ]
  },
  {
   "cell_type": "code",
   "execution_count": 67,
   "metadata": {
    "collapsed": false
   },
   "outputs": [],
   "source": [
    "np.savetxt(\"train.txt\",X)\n",
    "np.savetxt(\"val.txt\",X_t)\n",
    "np.savetxt(\"val.txt\",X_t)"
   ]
  },
  {
   "cell_type": "code",
   "execution_count": 111,
   "metadata": {
    "collapsed": true
   },
   "outputs": [],
   "source": [
    "from sklearn.neural_network import MLPClassifier\n",
    "clf = MLPClassifier(hidden_layer_sizes=(32, ), max_iter=5000 )"
   ]
  },
  {
   "cell_type": "code",
   "execution_count": 112,
   "metadata": {
    "collapsed": false
   },
   "outputs": [
    {
     "data": {
      "text/plain": [
       "MLPClassifier(activation='relu', alpha=0.0001, batch_size='auto', beta_1=0.9,\n",
       "       beta_2=0.999, early_stopping=False, epsilon=1e-08,\n",
       "       hidden_layer_sizes=(32,), learning_rate='constant',\n",
       "       learning_rate_init=0.001, max_iter=5000, momentum=0.9,\n",
       "       nesterovs_momentum=True, power_t=0.5, random_state=None,\n",
       "       shuffle=True, solver='adam', tol=0.0001, validation_fraction=0.1,\n",
       "       verbose=False, warm_start=False)"
      ]
     },
     "execution_count": 112,
     "metadata": {},
     "output_type": "execute_result"
    }
   ],
   "source": [
    "clf.fit(X, y)"
   ]
  },
  {
   "cell_type": "code",
   "execution_count": 113,
   "metadata": {
    "collapsed": false
   },
   "outputs": [
    {
     "data": {
      "text/plain": [
       "0.92"
      ]
     },
     "execution_count": 113,
     "metadata": {},
     "output_type": "execute_result"
    }
   ],
   "source": [
    "pred = clf.predict(X_t)\n",
    "true = np.concatenate([[0]*20,[1]*20,[2]*10])\n",
    "len(pred[true==pred])/50"
   ]
  },
  {
   "cell_type": "code",
   "execution_count": 114,
   "metadata": {
    "collapsed": false
   },
   "outputs": [
    {
     "data": {
      "text/plain": [
       "0.81"
      ]
     },
     "execution_count": 114,
     "metadata": {},
     "output_type": "execute_result"
    }
   ],
   "source": [
    "pred = clf.predict(X_test)\n",
    "true = np.concatenate([[0]*40,[1]*40,[2]*20])\n",
    "len(pred[true==pred])/100"
   ]
  },
  {
   "cell_type": "code",
   "execution_count": null,
   "metadata": {
    "collapsed": true
   },
   "outputs": [],
   "source": []
  }
 ],
 "metadata": {
  "kernelspec": {
   "display_name": "TSA",
   "language": "python",
   "name": "python36"
  },
  "language_info": {
   "codemirror_mode": {
    "name": "ipython",
    "version": 3
   },
   "file_extension": ".py",
   "mimetype": "text/x-python",
   "name": "python",
   "nbconvert_exporter": "python",
   "pygments_lexer": "ipython3",
   "version": "3.6.5"
  }
 },
 "nbformat": 4,
 "nbformat_minor": 2
}
