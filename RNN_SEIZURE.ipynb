{
 "cells": [
  {
   "cell_type": "code",
   "execution_count": 42,
   "metadata": {
    "collapsed": false
   },
   "outputs": [],
   "source": [
    "import tarfile\n",
    "import numpy as np \n",
    "import os\n",
    "import scipy.io as sio\n",
    "#import rarfile\n",
    "import torch\n",
    "import matplotlib.pyplot as plt\n",
    "#from hmmlearn import hmm\n",
    "import torch\n",
    "import torch.nn as nn\n",
    "from torch import optim\n",
    "import torch.nn.functional as F\n",
    "import string\n",
    "import numpy as np\n",
    "import pandas as pd\n",
    "import pickle as pkl\n",
    "from collections import Counter\n",
    "import random"
   ]
  },
  {
   "cell_type": "code",
   "execution_count": 4,
   "metadata": {
    "collapsed": true
   },
   "outputs": [],
   "source": [
    "import random\n",
    "random.seed(0)\n",
    "test_idx = random.sample(range(1,101), 20)\n",
    "idx = list(set(range(1,101)) - set(test_idx))\n",
    "train_idx = random.sample(idx, 70)\n",
    "val_idx = list(set(idx) - set(train_idx))"
   ]
  },
  {
   "cell_type": "code",
   "execution_count": 43,
   "metadata": {
    "collapsed": false
   },
   "outputs": [],
   "source": [
    "device = torch.device(\"cuda\" if torch.cuda.is_available() else \"cpu\")"
   ]
  },
  {
   "cell_type": "code",
   "execution_count": 69,
   "metadata": {
    "collapsed": false
   },
   "outputs": [],
   "source": [
    "dat_health = np.zeros([140*50, 81])\n",
    "for i in range(70):\n",
    "    t = str(train_idx[i]).zfill(3)\n",
    "    a = np.loadtxt('C:/Users/gong/Documents/learning/TSA/project/Data/Z_Healthy/c_Z'+t+'.txt')\n",
    "    a = a[:50*81].reshape([50, 81])\n",
    "    dat_health[i*50:(i+1)*50,:]=a\n",
    "for i in range(70):\n",
    "    t = str(train_idx[i]).zfill(3)\n",
    "    a = np.loadtxt('C:/Users/gong/Documents/learning/TSA/project/Data/O_Healthy/c_O'+t+'.txt')\n",
    "    a = a[:50*81].reshape([50, 81])\n",
    "    dat_health[(i+70)*50:(i+71)*50,:]=a\n",
    "dat_inter = np.zeros([140*50, 81])\n",
    "for i in range(70):\n",
    "    t = str(train_idx[i]).zfill(3)\n",
    "    a = np.loadtxt('C:/Users/gong/Documents/learning/TSA/project/Data/F_Interictal/c_F'+t+'.txt')\n",
    "    a = a[:50*81].reshape([50, 81])\n",
    "    dat_inter[i*50:(i+1)*50,:]=a\n",
    "for i in range(70):\n",
    "    t = str(train_idx[i]).zfill(3)\n",
    "    a = np.loadtxt('C:/Users/gong/Documents/learning/TSA/project/Data/N_Interictal/c_N'+t+'.txt')\n",
    "    a = a[:50*81].reshape([50, 81])\n",
    "    dat_inter[(i+70)*50:(i+71)*50,:]=a\n",
    "dat_ict = np.zeros([70*50, 81])\n",
    "for i in range(70):\n",
    "    t = str(train_idx[i]).zfill(3)\n",
    "    a = np.loadtxt('C:/Users/gong/Documents/learning/TSA/project/Data/S_Ictal/c_S'+t+'.txt')\n",
    "    a = a[:50*81].reshape([50, 81])\n",
    "    dat_ict[i*50:(i+1)*50,:]=a"
   ]
  },
  {
   "cell_type": "code",
   "execution_count": 68,
   "metadata": {
    "collapsed": false
   },
   "outputs": [],
   "source": [
    "dat_health_t = np.zeros([20*50, 81])\n",
    "for i in range(10):\n",
    "    t = str(val_idx[i]).zfill(3)\n",
    "    a = np.loadtxt('C:/Users/gong/Documents/learning/TSA/project/Data/Z_Healthy/c_Z'+t+'.txt')\n",
    "    a = a[:50*81].reshape([50, 81])\n",
    "    dat_health_t[i*50:(i+1)*50,:]=a\n",
    "for i in range(10):\n",
    "    t = str(val_idx[i]).zfill(3)\n",
    "    a = np.loadtxt('C:/Users/gong/Documents/learning/TSA/project/Data/O_Healthy/c_O'+t+'.txt')\n",
    "    a = a[:50*81].reshape([50, 81])\n",
    "    dat_health_t[(i+10)*50:(i+11)*50,:]=a\n",
    "dat_inter_t = np.zeros([20*50, 81])\n",
    "for i in range(10):\n",
    "    t = str(val_idx[i]).zfill(3)\n",
    "    a = np.loadtxt('C:/Users/gong/Documents/learning/TSA/project/Data/F_Interictal/c_F'+t+'.txt')\n",
    "    a = a[:50*81].reshape([50, 81])\n",
    "    dat_inter_t[i*50:(i+1)*50,:]=a\n",
    "for i in range(10):\n",
    "    t = str(val_idx[i]).zfill(3)\n",
    "    a = np.loadtxt('C:/Users/gong/Documents/learning/TSA/project/Data/N_Interictal/c_N'+t+'.txt')\n",
    "    a = a[:50*81].reshape([50, 81])\n",
    "    dat_inter_t[(i+10)*50:(i+11)*50,:]=a\n",
    "dat_ict_t = np.zeros([10*50, 81])\n",
    "for i in range(10):\n",
    "    t = str(val_idx[i]).zfill(3)\n",
    "    a = np.loadtxt('C:/Users/gong/Documents/learning/TSA/project/Data/S_Ictal/c_S'+t+'.txt')\n",
    "    a = a[:50*81].reshape([50, 81])\n",
    "    dat_ict_t[i*50:(i+1)*50,:]=a"
   ]
  },
  {
   "cell_type": "code",
   "execution_count": 70,
   "metadata": {
    "collapsed": false
   },
   "outputs": [],
   "source": [
    "dat_health = np.expand_dims(dat_health, 2)\n",
    "dat_inter = np.expand_dims(dat_inter, 2)\n",
    "dat_ict = np.expand_dims(dat_ict, 2)\n",
    "dat_health_t = np.expand_dims(dat_health_t, 2)\n",
    "dat_inter_t = np.expand_dims(dat_inter_t, 2)\n",
    "dat_ict_t = np.expand_dims(dat_ict_t, 2)"
   ]
  },
  {
   "cell_type": "code",
   "execution_count": 71,
   "metadata": {
    "collapsed": false
   },
   "outputs": [],
   "source": [
    "dat_agg = np.concatenate([dat_health, dat_inter, dat_ict])\n",
    "dat_lab = np.concatenate([[0]*140*50, [1]*140*50, [2]*70*50])\n",
    "dat_agg_t = np.concatenate([dat_health_t, dat_inter_t, dat_ict_t])\n",
    "dat_lab_t = np.concatenate([[0]*20*50, [1]*20*50, [2]*10*50])"
   ]
  },
  {
   "cell_type": "code",
   "execution_count": 38,
   "metadata": {
    "collapsed": true
   },
   "outputs": [],
   "source": [
    "import torch.utils.data as Data\n",
    "from torch.utils.data import Dataset, DataLoader, TensorDataset\n",
    "class MyDataset(Dataset):\n",
    "    def __init__(self, data_list, target_list):\n",
    "        assert len(data_list) == len(target_list)\n",
    "        self.data_list = data_list\n",
    "        self.target_list = target_list\n",
    "        \n",
    "    def __getitem__(self, index):\n",
    "        dat = self.data_list[index]\n",
    "        label = self.target_list[index]\n",
    "        \n",
    "        return [dat, label]\n",
    "    \n",
    "    def __len__(self):\n",
    "        return len(self.data_list)"
   ]
  },
  {
   "cell_type": "code",
   "execution_count": 45,
   "metadata": {
    "collapsed": true
   },
   "outputs": [],
   "source": [
    "def newsgroup_collate_func(batch):\n",
    "    data_list = []\n",
    "    label_list = []\n",
    "    for datum in batch:\n",
    "        label_list.append(datum[1])\n",
    "        data_list.append(datum[0])\n",
    "        \n",
    "    x = torch.from_numpy(np.array(data_list)).float().to(device)\n",
    "    y = torch.LongTensor(np.array(label_list)).to(device)\n",
    "    return x, y"
   ]
  },
  {
   "cell_type": "code",
   "execution_count": 52,
   "metadata": {
    "collapsed": false
   },
   "outputs": [],
   "source": [
    "class RNN(nn.Module):\n",
    "    def __init__(self, hidden_size, num_layers):\n",
    "        super(RNN, self).__init__()\n",
    "        \n",
    "        self.num_layers, self.hidden_size = num_layers, hidden_size\n",
    "        self.rnn = nn.GRU(1, hidden_size, num_layers, batch_first=True)\n",
    "        \n",
    "        self.linear1 = nn.Linear(hidden_size, 3)\n",
    "\n",
    "  \n",
    "    def init_hidden(self, batch_size):\n",
    "        hidden = torch.randn(self.num_layers, batch_size, self.hidden_size).float()\n",
    "\n",
    "        return hidden\n",
    "\n",
    "    def forward(self, x):\n",
    "        batch_size, seq_len, _ = x.size()\n",
    "        self.hidden = self.init_hidden(batch_size).to(device)\n",
    "\n",
    "        _, self.hidden = self.rnn(x, self.hidden)\n",
    "        final_hidden = self.hidden.view(1, 1, batch_size, self.hidden_size).contiguous().view(batch_size, -1)\n",
    "        out = self.linear1(final_hidden)\n",
    "        out = F.log_softmax(out, dim=1)\n",
    "        return out"
   ]
  },
  {
   "cell_type": "code",
   "execution_count": 93,
   "metadata": {
    "collapsed": false
   },
   "outputs": [],
   "source": [
    "BATCH_SIZE = 64\n",
    "train_dataset = MyDataset(dat_agg, dat_lab)\n",
    "train_loader = torch.utils.data.DataLoader(dataset=train_dataset,\n",
    "                                batch_size=BATCH_SIZE,\n",
    "                                collate_fn=newsgroup_collate_func,\n",
    "                                shuffle=True)\n",
    "val_dataset = MyDataset(dat_agg_t, dat_lab_t)\n",
    "val_loader = torch.utils.data.DataLoader(dataset=val_dataset,\n",
    "                                batch_size=BATCH_SIZE,\n",
    "                                collate_fn=newsgroup_collate_func,\n",
    "                                shuffle=False)"
   ]
  },
  {
   "cell_type": "code",
   "execution_count": 147,
   "metadata": {
    "collapsed": false
   },
   "outputs": [],
   "source": [
    "hidden_size = 32\n",
    "num_layers = 1\n",
    "learning_rate = 0.001\n",
    "model = RNN(hidden_size, num_layers).to(device)\n",
    "criterion = torch.nn.NLLLoss()\n",
    "optimizer = torch.optim.Adam(model.parameters(), lr=learning_rate)"
   ]
  },
  {
   "cell_type": "code",
   "execution_count": 148,
   "metadata": {
    "collapsed": false
   },
   "outputs": [],
   "source": [
    "def do_train(model, dataloader, criterion, optimizer):\n",
    "    model.train()\n",
    "    train_loss = 0\n",
    "    for data, labels in dataloader:\n",
    "        optimizer.zero_grad()\n",
    "        y_hat = model(data)\n",
    "        loss = criterion(y_hat, labels.long())\n",
    "        loss.backward()\n",
    "        optimizer.step()\n",
    "        train_loss += loss.item() * len(data) / len(dataloader.dataset)\n",
    "    return train_loss"
   ]
  },
  {
   "cell_type": "code",
   "execution_count": 149,
   "metadata": {
    "collapsed": true
   },
   "outputs": [],
   "source": [
    "def do_eval(model, dataloader, criterion):\n",
    "    model.eval()\n",
    "    val_loss = 0\n",
    "    y_hat_ls = []\n",
    "    y_ls = []\n",
    "    with torch.no_grad():\n",
    "        for data, labels in dataloader:\n",
    "            y_hat = model(data)\n",
    "            loss = criterion(y_hat, labels.long())\n",
    "            y_hat_ls.append(y_hat)\n",
    "            y_ls.append(labels)\n",
    "            val_loss += loss.item() * len(data) / len(dataloader.dataset)\n",
    "            \n",
    "    return val_loss, torch.cat(y_hat_ls, dim=0), torch.cat(y_ls, dim=0)\n",
    "def acc(model, dataloader, criterion):\n",
    "    val_loss, pred,true = do_eval(\n",
    "    model = model,\n",
    "    dataloader = dataloader,\n",
    "    criterion = criterion\n",
    "    )\n",
    "    return val_loss, (torch.exp(pred).max(1)[1] == true).float().mean().item()"
   ]
  },
  {
   "cell_type": "code",
   "execution_count": 150,
   "metadata": {
    "collapsed": false
   },
   "outputs": [
    {
     "name": "stdout",
     "output_type": "stream",
     "text": [
      "Epoch: [1/100], Train Loss: 1.037738937950135, Val Loss: 1.0466383695602415, Val Acc: 0.47279998660087585\n",
      "Epoch: [2/100], Train Loss: 0.819499152197157, Val Loss: 0.9022808248519899, Val Acc: 0.6223999857902527\n",
      "Epoch: [3/100], Train Loss: 0.7502304970060076, Val Loss: 0.8671154750823976, Val Acc: 0.6263999938964844\n",
      "Epoch: [4/100], Train Loss: 0.69975699471065, Val Loss: 0.8475496284484865, Val Acc: 0.6499999761581421\n",
      "Epoch: [5/100], Train Loss: 0.6660478685242788, Val Loss: 0.8382023738861085, Val Acc: 0.6535999774932861\n",
      "Epoch: [6/100], Train Loss: 0.6475873438290184, Val Loss: 0.8094217693328858, Val Acc: 0.6583999991416931\n",
      "Epoch: [7/100], Train Loss: 0.658844058806556, Val Loss: 0.884079648208618, Val Acc: 0.6431999802589417\n",
      "Epoch: [8/100], Train Loss: 0.6095885052612849, Val Loss: 0.7964078742980956, Val Acc: 0.671999990940094\n",
      "Epoch: [9/100], Train Loss: 0.5977741900580265, Val Loss: 0.7900070335388183, Val Acc: 0.6815999746322632\n",
      "Epoch: [10/100], Train Loss: 0.595452929483141, Val Loss: 0.7915608795166016, Val Acc: 0.6868000030517578\n",
      "Epoch: [11/100], Train Loss: 0.5658383617741722, Val Loss: 0.769828590774536, Val Acc: 0.7039999961853027\n",
      "Epoch: [12/100], Train Loss: 0.5343196591104777, Val Loss: 0.7617260944366456, Val Acc: 0.7020000219345093\n",
      "Epoch: [13/100], Train Loss: 0.5168058367456706, Val Loss: 0.738209520339966, Val Acc: 0.7160000205039978\n",
      "Epoch: [14/100], Train Loss: 0.4997331383909501, Val Loss: 0.7191652256011963, Val Acc: 0.7264000177383423\n",
      "Epoch: [15/100], Train Loss: 0.499922050557818, Val Loss: 0.7226072216033936, Val Acc: 0.7203999757766724\n",
      "Epoch: [16/100], Train Loss: 0.4785479638440268, Val Loss: 0.7317678951263427, Val Acc: 0.72079998254776\n"
     ]
    },
    {
     "ename": "KeyboardInterrupt",
     "evalue": "",
     "output_type": "error",
     "traceback": [
      "\u001b[1;31m---------------------------------------------------------------------------\u001b[0m",
      "\u001b[1;31mKeyboardInterrupt\u001b[0m                         Traceback (most recent call last)",
      "\u001b[1;32m<ipython-input-150-260aee0916ac>\u001b[0m in \u001b[0;36m<module>\u001b[1;34m()\u001b[0m\n\u001b[0;32m      6\u001b[0m         \u001b[0mcriterion\u001b[0m\u001b[1;33m=\u001b[0m\u001b[0mcriterion\u001b[0m\u001b[1;33m,\u001b[0m\u001b[1;33m\u001b[0m\u001b[0m\n\u001b[0;32m      7\u001b[0m         \u001b[0mdataloader\u001b[0m\u001b[1;33m=\u001b[0m\u001b[0mtrain_loader\u001b[0m\u001b[1;33m,\u001b[0m\u001b[1;33m\u001b[0m\u001b[0m\n\u001b[1;32m----> 8\u001b[1;33m         \u001b[0moptimizer\u001b[0m\u001b[1;33m=\u001b[0m\u001b[0moptimizer\u001b[0m\u001b[1;33m,\u001b[0m\u001b[1;33m\u001b[0m\u001b[0m\n\u001b[0m\u001b[0;32m      9\u001b[0m     )\n\u001b[0;32m     10\u001b[0m     \u001b[0mval_loss\u001b[0m\u001b[1;33m,\u001b[0m \u001b[0mval_acc\u001b[0m \u001b[1;33m=\u001b[0m \u001b[0macc\u001b[0m\u001b[1;33m(\u001b[0m\u001b[0mmodel\u001b[0m\u001b[1;33m,\u001b[0m \u001b[0mval_loader\u001b[0m\u001b[1;33m,\u001b[0m \u001b[0mcriterion\u001b[0m\u001b[1;33m)\u001b[0m\u001b[1;33m\u001b[0m\u001b[0m\n",
      "\u001b[1;32m<ipython-input-148-a63432728f89>\u001b[0m in \u001b[0;36mdo_train\u001b[1;34m(model, dataloader, criterion, optimizer)\u001b[0m\n\u001b[0;32m      6\u001b[0m         \u001b[0my_hat\u001b[0m \u001b[1;33m=\u001b[0m \u001b[0mmodel\u001b[0m\u001b[1;33m(\u001b[0m\u001b[0mdata\u001b[0m\u001b[1;33m)\u001b[0m\u001b[1;33m\u001b[0m\u001b[0m\n\u001b[0;32m      7\u001b[0m         \u001b[0mloss\u001b[0m \u001b[1;33m=\u001b[0m \u001b[0mcriterion\u001b[0m\u001b[1;33m(\u001b[0m\u001b[0my_hat\u001b[0m\u001b[1;33m,\u001b[0m \u001b[0mlabels\u001b[0m\u001b[1;33m.\u001b[0m\u001b[0mlong\u001b[0m\u001b[1;33m(\u001b[0m\u001b[1;33m)\u001b[0m\u001b[1;33m)\u001b[0m\u001b[1;33m\u001b[0m\u001b[0m\n\u001b[1;32m----> 8\u001b[1;33m         \u001b[0mloss\u001b[0m\u001b[1;33m.\u001b[0m\u001b[0mbackward\u001b[0m\u001b[1;33m(\u001b[0m\u001b[1;33m)\u001b[0m\u001b[1;33m\u001b[0m\u001b[0m\n\u001b[0m\u001b[0;32m      9\u001b[0m         \u001b[0moptimizer\u001b[0m\u001b[1;33m.\u001b[0m\u001b[0mstep\u001b[0m\u001b[1;33m(\u001b[0m\u001b[1;33m)\u001b[0m\u001b[1;33m\u001b[0m\u001b[0m\n\u001b[0;32m     10\u001b[0m         \u001b[0mtrain_loss\u001b[0m \u001b[1;33m+=\u001b[0m \u001b[0mloss\u001b[0m\u001b[1;33m.\u001b[0m\u001b[0mitem\u001b[0m\u001b[1;33m(\u001b[0m\u001b[1;33m)\u001b[0m \u001b[1;33m*\u001b[0m \u001b[0mlen\u001b[0m\u001b[1;33m(\u001b[0m\u001b[0mdata\u001b[0m\u001b[1;33m)\u001b[0m \u001b[1;33m/\u001b[0m \u001b[0mlen\u001b[0m\u001b[1;33m(\u001b[0m\u001b[0mdataloader\u001b[0m\u001b[1;33m.\u001b[0m\u001b[0mdataset\u001b[0m\u001b[1;33m)\u001b[0m\u001b[1;33m\u001b[0m\u001b[0m\n",
      "\u001b[1;32mD:\\Anaconda3\\envs\\NLP\\lib\\site-packages\\torch\\tensor.py\u001b[0m in \u001b[0;36mbackward\u001b[1;34m(self, gradient, retain_graph, create_graph)\u001b[0m\n\u001b[0;32m     91\u001b[0m                 \u001b[0mproducts\u001b[0m\u001b[1;33m.\u001b[0m \u001b[0mDefaults\u001b[0m \u001b[0mto\u001b[0m\u001b[0;31m \u001b[0m\u001b[0;31m`\u001b[0m\u001b[0;31m`\u001b[0m\u001b[1;32mFalse\u001b[0m\u001b[0;31m`\u001b[0m\u001b[0;31m`\u001b[0m\u001b[1;33m.\u001b[0m\u001b[1;33m\u001b[0m\u001b[0m\n\u001b[0;32m     92\u001b[0m         \"\"\"\n\u001b[1;32m---> 93\u001b[1;33m         \u001b[0mtorch\u001b[0m\u001b[1;33m.\u001b[0m\u001b[0mautograd\u001b[0m\u001b[1;33m.\u001b[0m\u001b[0mbackward\u001b[0m\u001b[1;33m(\u001b[0m\u001b[0mself\u001b[0m\u001b[1;33m,\u001b[0m \u001b[0mgradient\u001b[0m\u001b[1;33m,\u001b[0m \u001b[0mretain_graph\u001b[0m\u001b[1;33m,\u001b[0m \u001b[0mcreate_graph\u001b[0m\u001b[1;33m)\u001b[0m\u001b[1;33m\u001b[0m\u001b[0m\n\u001b[0m\u001b[0;32m     94\u001b[0m \u001b[1;33m\u001b[0m\u001b[0m\n\u001b[0;32m     95\u001b[0m     \u001b[1;32mdef\u001b[0m \u001b[0mregister_hook\u001b[0m\u001b[1;33m(\u001b[0m\u001b[0mself\u001b[0m\u001b[1;33m,\u001b[0m \u001b[0mhook\u001b[0m\u001b[1;33m)\u001b[0m\u001b[1;33m:\u001b[0m\u001b[1;33m\u001b[0m\u001b[0m\n",
      "\u001b[1;32mD:\\Anaconda3\\envs\\NLP\\lib\\site-packages\\torch\\autograd\\__init__.py\u001b[0m in \u001b[0;36mbackward\u001b[1;34m(tensors, grad_tensors, retain_graph, create_graph, grad_variables)\u001b[0m\n\u001b[0;32m     88\u001b[0m     Variable._execution_engine.run_backward(\n\u001b[0;32m     89\u001b[0m         \u001b[0mtensors\u001b[0m\u001b[1;33m,\u001b[0m \u001b[0mgrad_tensors\u001b[0m\u001b[1;33m,\u001b[0m \u001b[0mretain_graph\u001b[0m\u001b[1;33m,\u001b[0m \u001b[0mcreate_graph\u001b[0m\u001b[1;33m,\u001b[0m\u001b[1;33m\u001b[0m\u001b[0m\n\u001b[1;32m---> 90\u001b[1;33m         allow_unreachable=True)  # allow_unreachable flag\n\u001b[0m\u001b[0;32m     91\u001b[0m \u001b[1;33m\u001b[0m\u001b[0m\n\u001b[0;32m     92\u001b[0m \u001b[1;33m\u001b[0m\u001b[0m\n",
      "\u001b[1;31mKeyboardInterrupt\u001b[0m: "
     ]
    }
   ],
   "source": [
    "    num_epochs = 100\n",
    "    for epoch in range(num_epochs):\n",
    "    #scheduler.step()\n",
    "        loss = do_train(\n",
    "            model=model, \n",
    "            criterion=criterion,\n",
    "            dataloader=train_loader,\n",
    "            optimizer=optimizer,\n",
    "        )\n",
    "        val_loss, val_acc = acc(model, val_loader, criterion)\n",
    "        train_loss, train_acc = acc(model,train_loader, criterion)\n",
    "        print('Epoch: [{}/{}], Train Loss: {}, Val Loss: {}, Val Acc: {}'.format( \n",
    "                           epoch+1, num_epochs, train_loss, val_loss, val_acc))"
   ]
  },
  {
   "cell_type": "code",
   "execution_count": 167,
   "metadata": {
    "collapsed": true
   },
   "outputs": [],
   "source": [
    "dat_agg_t = np.concatenate([dat_health_t, dat_inter_t, dat_ict_t])\n",
    "dat_lab_t = np.concatenate([[0]*20*50, [1]*20*50, [2]*10*50])\n",
    "t_dataset = MyDataset(dat_agg_test, dat_lab_test)\n",
    "t_loader = torch.utils.data.DataLoader(dataset=t_dataset,\n",
    "                                batch_size=50,\n",
    "                                collate_fn=newsgroup_collate_func,\n",
    "                                shuffle=False)"
   ]
  },
  {
   "cell_type": "code",
   "execution_count": 168,
   "metadata": {
    "collapsed": false
   },
   "outputs": [
    {
     "name": "stdout",
     "output_type": "stream",
     "text": [
      "validation accuracy: 0.84\n"
     ]
    }
   ],
   "source": [
    "pred_lab = []\n",
    "for x, y in t_loader:\n",
    "    y_hat = model(x)\n",
    "    pred = torch.exp(y_hat).max(1)[1].numpy()\n",
    "    pred_lab.append(np.argmax([len(pred[pred==0]), len(pred[pred==1]), len(pred[pred==2])]))\n",
    "rue_lab = np.concatenate([[0]*20,[1]*20,[2]*10])\n",
    "print(\"validation accuracy: {}\".format(len(true_lab[np.array(pred_lab)==true_lab])/50))"
   ]
  },
  {
   "cell_type": "code",
   "execution_count": 153,
   "metadata": {
    "collapsed": false
   },
   "outputs": [],
   "source": [
    "dat_health_test = np.zeros([40*50, 81])\n",
    "for i in range(20):\n",
    "    t = str(test_idx[i]).zfill(3)\n",
    "    a = np.loadtxt('C:/Users/gong/Documents/learning/TSA/project/Data/Z_Healthy/c_Z'+t+'.txt')\n",
    "    a = a[:50*81].reshape([50, 81])\n",
    "    dat_health_test[i*50:(i+1)*50,:]=a\n",
    "for i in range(20):\n",
    "    t = str(test_idx[i]).zfill(3)\n",
    "    a = np.loadtxt('C:/Users/gong/Documents/learning/TSA/project/Data/O_Healthy/c_O'+t+'.txt')\n",
    "    a = a[:50*81].reshape([50, 81])\n",
    "    dat_health_test[(i+20)*50:(i+21)*50,:]=a\n",
    "dat_inter_test = np.zeros([40*50, 81])\n",
    "for i in range(20):\n",
    "    t = str(test_idx[i]).zfill(3)\n",
    "    a = np.loadtxt('C:/Users/gong/Documents/learning/TSA/project/Data/F_Interictal/c_F'+t+'.txt')\n",
    "    a = a[:50*81].reshape([50, 81])\n",
    "    dat_inter_test[i*50:(i+1)*50,:]=a\n",
    "for i in range(20):\n",
    "    t = str(test_idx[i]).zfill(3)\n",
    "    a = np.loadtxt('C:/Users/gong/Documents/learning/TSA/project/Data/N_Interictal/c_N'+t+'.txt')\n",
    "    a = a[:50*81].reshape([50, 81])\n",
    "    dat_inter_test[(i+20)*50:(i+21)*50,:]=a\n",
    "dat_ict_test = np.zeros([20*50, 81])\n",
    "for i in range(20):\n",
    "    t = str(test_idx[i]).zfill(3)\n",
    "    a = np.loadtxt('C:/Users/gong/Documents/learning/TSA/project/Data/S_Ictal/c_S'+t+'.txt')\n",
    "    a = a[:50*81].reshape([50, 81])\n",
    "    dat_ict_test[i*50:(i+1)*50,:]=a"
   ]
  },
  {
   "cell_type": "code",
   "execution_count": 154,
   "metadata": {
    "collapsed": false
   },
   "outputs": [],
   "source": [
    "dat_health_test = np.expand_dims(dat_health_test, 2)\n",
    "dat_inter_test = np.expand_dims(dat_inter_test, 2)\n",
    "dat_ict_test = np.expand_dims(dat_ict_test, 2)"
   ]
  },
  {
   "cell_type": "code",
   "execution_count": 170,
   "metadata": {
    "collapsed": false
   },
   "outputs": [],
   "source": [
    "dat_agg_test = np.concatenate([dat_health_test, dat_inter_test, dat_ict_test])\n",
    "dat_lab_test = np.concatenate([[0]*40*50, [1]*40*50, [2]*20*50])\n",
    "test_dataset = MyDataset(dat_agg_test, dat_lab_test)\n",
    "test_loader = torch.utils.data.DataLoader(dataset=test_dataset,\n",
    "                                batch_size=50,\n",
    "                                collate_fn=newsgroup_collate_func,\n",
    "                                shuffle=False)"
   ]
  },
  {
   "cell_type": "code",
   "execution_count": 171,
   "metadata": {
    "collapsed": false
   },
   "outputs": [
    {
     "name": "stdout",
     "output_type": "stream",
     "text": [
      "test accuracy: 0.91\n"
     ]
    }
   ],
   "source": [
    "pred_lab = []\n",
    "for x, y in test_loader:\n",
    "    y_hat = model(x)\n",
    "    pred = torch.exp(y_hat).max(1)[1].numpy()\n",
    "    pred_lab.append(np.argmax([len(pred[pred==0]), len(pred[pred==1]), len(pred[pred==2])]))\n",
    "true_lab = np.concatenate([[0]*40,[1]*40,[2]*20])\n",
    "print(\"test accuracy: {}\".format(len(true_lab[np.array(pred_lab)==true_lab])/100))"
   ]
  },
  {
   "cell_type": "code",
   "execution_count": null,
   "metadata": {
    "collapsed": true
   },
   "outputs": [],
   "source": []
  }
 ],
 "metadata": {
  "kernelspec": {
   "display_name": "NLP",
   "language": "python",
   "name": "nlp"
  },
  "language_info": {
   "codemirror_mode": {
    "name": "ipython",
    "version": 3
   },
   "file_extension": ".py",
   "mimetype": "text/x-python",
   "name": "python",
   "nbconvert_exporter": "python",
   "pygments_lexer": "ipython3",
   "version": "3.6.5"
  }
 },
 "nbformat": 4,
 "nbformat_minor": 2
}
