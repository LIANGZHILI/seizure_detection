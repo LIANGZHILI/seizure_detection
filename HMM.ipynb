{
 "cells": [
  {
   "cell_type": "code",
   "execution_count": 1,
   "metadata": {
    "collapsed": false
   },
   "outputs": [],
   "source": [
    "import tarfile\n",
    "import numpy as np \n",
    "import os\n",
    "import scipy.io as sio\n",
    "#import rarfile\n",
    "#import torch\n",
    "import matplotlib.pyplot as plt\n",
    "from hmmlearn import hmm"
   ]
  },
  {
   "cell_type": "code",
   "execution_count": 2,
   "metadata": {
    "collapsed": false
   },
   "outputs": [],
   "source": [
    "import random\n",
    "random.seed(2018)\n",
    "test_idx = random.sample(range(1,101), 20)\n",
    "idx = list(set(range(1,101)) - set(test_idx))\n",
    "train_idx = random.sample(idx, 70)\n",
    "val_idx = list(set(idx) - set(train_idx))"
   ]
  },
  {
   "cell_type": "code",
   "execution_count": 3,
   "metadata": {},
   "outputs": [
    {
     "data": {
      "text/plain": [
       "'/home/jupyter/eeg'"
      ]
     },
     "execution_count": 3,
     "metadata": {},
     "output_type": "execute_result"
    }
   ],
   "source": [
    "pwd"
   ]
  },
  {
   "cell_type": "code",
   "execution_count": null,
   "metadata": {},
   "outputs": [],
   "source": [
    "len(dat_health)"
   ]
  },
  {
   "cell_type": "code",
   "execution_count": 16,
   "metadata": {
    "collapsed": false
   },
   "outputs": [],
   "source": [
    "dat_health = np.zeros([4097*140, 1])\n",
    "for i in range(70):\n",
    "    t = str(train_idx[i]).zfill(3)\n",
    "    a = np.loadtxt('Z/Z'+t+'.txt')  #healthy\n",
    "    a = np.expand_dims(a,1)\n",
    "    dat_health[(i)*4097 : (i+1)*4097,:]=a\n",
    "    \n",
    "for i in range(70):\n",
    "    t = str(train_idx[i]).zfill(3)\n",
    "    a = np.loadtxt('O/O'+t+'.txt')  #healthy\n",
    "    a = np.expand_dims(a,1)\n",
    "    dat_health[(i+70)*4097 : (i+71)*4097,:]=a\n",
    "    \n",
    "dat_inter = np.zeros([4097*140, 1])\n",
    "for i in range(70):\n",
    "    t = str(train_idx[i]).zfill(3)\n",
    "    #a = np.loadtxt('C:/Users/gong/Documents/learning/TSA/project/Data/F_Interictal/c_F'+t+'.txt')\n",
    "    a = np.loadtxt('F/F'+t+'.txt')\n",
    "    a = np.expand_dims(a,1)\n",
    "    dat_inter[(i)*4097 : (i+1)*4097,:]=a\n",
    "for i in range(70):\n",
    "    t = str(train_idx[i]).zfill(3)\n",
    "    #a = np.loadtxt('C:/Users/gong/Documents/learning/TSA/project/Data/N_Interictal/c_N'+t+'.txt')\n",
    "    a = np.loadtxt('N/N'+t+'.TXT')\n",
    "    a = np.expand_dims(a,1)\n",
    "    dat_inter[(i+70)*4097 : (i+71)*4097,:]=a\n",
    "    \n",
    "dat_ict = np.zeros([4097*70, 1])\n",
    "for i in range(70):\n",
    "    t = str(train_idx[i]).zfill(3)\n",
    "    #a = np.loadtxt('C:/Users/gong/Documents/learning/TSA/project/Data/S_Ictal/c_S'+t+'.txt')\n",
    "    a = np.loadtxt('S/S'+t+'.txt')\n",
    "    a = np.expand_dims(a,1)\n",
    "    dat_ict[(i)*4097 : (i+1)*4097,:]=a"
   ]
  },
  {
   "cell_type": "code",
   "execution_count": null,
   "metadata": {
    "collapsed": true
   },
   "outputs": [],
   "source": [
    "# 3: 0.7\n",
    "# 4: 0.76\n",
    "# 5: 0.72\n",
    "# 6: 0.7"
   ]
  },
  {
   "cell_type": "code",
   "execution_count": 19,
   "metadata": {
    "collapsed": false
   },
   "outputs": [
    {
     "data": {
      "text/plain": [
       "GaussianHMM(algorithm='viterbi', covariance_type='diag', covars_prior=0.01,\n",
       "      covars_weight=1, init_params='stmc', means_prior=0, means_weight=0,\n",
       "      min_covar=0.001, n_components=4, n_iter=2000, params='stmc',\n",
       "      random_state=None, startprob_prior=1.0, tol=0.01, transmat_prior=1.0,\n",
       "      verbose=False)"
      ]
     },
     "execution_count": 19,
     "metadata": {},
     "output_type": "execute_result"
    }
   ],
   "source": [
    "remodel_health = hmm.GaussianHMM(n_components=4, covariance_type=\"diag\", n_iter=2000)\n",
    "remodel_health.fit(dat_health, [4097]*140) \n",
    "remodel_inter = hmm.GaussianHMM(n_components=4, covariance_type=\"diag\", n_iter=2000)\n",
    "remodel_inter.fit(dat_inter, [4097]*140) \n",
    "remodel_ict = hmm.GaussianHMM(n_components=4, covariance_type=\"diag\", n_iter=2000)\n",
    "remodel_ict.fit(dat_ict, [4097]*70) "
   ]
  },
  {
   "cell_type": "code",
   "execution_count": 12,
   "metadata": {
    "collapsed": true
   },
   "outputs": [],
   "source": [
    "right_num = 0\n",
    "right_sum_healthy = 0\n",
    "right_sum_Interictal = 0\n",
    "right_sum_Ictal = 0\n",
    "for i in range(10):\n",
    "    t = str(val_idx[i]).zfill(3)\n",
    "    a = np.loadtxt('Z/Z'+t+'.txt')\n",
    "    a = np.expand_dims(a,1)\n",
    "    score = [remodel_health.score(a), remodel_inter.score(a), remodel_ict.score(a)]\n",
    "    if(np.argmax(score)==0):\n",
    "        right_num+=1\n",
    "        right_sum_healthy!=1\n",
    "for i in range(10):    \n",
    "    t = str(val_idx[i]).zfill(3)\n",
    "    a = np.loadtxt('O/O'+t+'.txt')\n",
    "    a = np.expand_dims(a,1)\n",
    "    score = [remodel_health.score(a), remodel_inter.score(a), remodel_ict.score(a)]\n",
    "    if(np.argmax(score)==0):\n",
    "        right_num+=1\n",
    "        right_sum_healthy+=1\n",
    "for i in range(10):\n",
    "    t = str(val_idx[i]).zfill(3)\n",
    "    a = np.loadtxt('F/F'+t+'.txt')\n",
    "    a = np.expand_dims(a,1)\n",
    "    score = [remodel_health.score(a), remodel_inter.score(a), remodel_ict.score(a)]\n",
    "    if(np.argmax(score)==1):\n",
    "        right_num+=1\n",
    "        right_sum_Interictal+=1\n",
    "for i in range(10):\n",
    "    t = str(val_idx[i]).zfill(3)\n",
    "    a = np.loadtxt('N/N'+t+'.TXT')\n",
    "    a = np.expand_dims(a,1)\n",
    "    score = [remodel_health.score(a), remodel_inter.score(a), remodel_ict.score(a)]\n",
    "    if(np.argmax(score)==1):\n",
    "        right_num+=1\n",
    "        right_sum_Interictal+=1\n",
    "for i in range(10):\n",
    "    t = str(val_idx[i]).zfill(3)\n",
    "    a = np.loadtxt('S/S'+t+'.txt')\n",
    "    a = np.expand_dims(a,1)\n",
    "    score = [remodel_health.score(a), remodel_inter.score(a), remodel_ict.score(a)]\n",
    "    if(np.argmax(score)==2):\n",
    "        right_num+=1\n",
    "        right_sum_Ictal+=1"
   ]
  },
  {
   "cell_type": "code",
   "execution_count": 13,
   "metadata": {
    "collapsed": false
   },
   "outputs": [
    {
     "name": "stdout",
     "output_type": "stream",
     "text": [
      "accuracy: 0.68\n",
      "accuracy_healthy: 0.45\n",
      "accuracy_interictal: 0.4\n",
      "accuracy_ictal: 0.9\n"
     ]
    }
   ],
   "source": [
    "print('accuracy: ' + str(right_num/50))\n",
    "print('accuracy_healthy: ' + str(right_sum_healthy/20))\n",
    "print('accuracy_interictal: ' + str(right_sum_Interictal/20))\n",
    "print('accuracy_ictal: ' + str(right_sum_Ictal/10))"
   ]
  },
  {
   "cell_type": "code",
   "execution_count": 169,
   "metadata": {
    "collapsed": true
   },
   "outputs": [],
   "source": [
    "right_num = 0\n",
    "for i in range(20):\n",
    "    t = str(test_idx[i]).zfill(3)\n",
    "    a = np.loadtxt('C:/Users/gong/Documents/learning/TSA/project/Data/Z_Healthy/c_Z'+t+'.txt')\n",
    "    a = np.expand_dims(a,1)\n",
    "    score = [remodel_z.score(a), remodel_o.score(a), remodel_f.score(a),remodel_n.score(a), remodel_s.score(a)]\n",
    "    if(np.argmax(score)==0 or np.argmax(score)==1):\n",
    "        right_num+=1\n",
    "for i in range(20):    \n",
    "    t = str(test_idx[i]).zfill(3)\n",
    "    a = np.loadtxt('C:/Users/gong/Documents/learning/TSA/project/Data/O_Healthy/c_O'+t+'.txt')\n",
    "    a = np.expand_dims(a,1)\n",
    "    score = [remodel_z.score(a), remodel_o.score(a), remodel_f.score(a),remodel_n.score(a), remodel_s.score(a)]\n",
    "    if(np.argmax(score)==0 or np.argmax(score)==1):\n",
    "        right_num+=1\n",
    "for i in range(20):\n",
    "    t = str(test_idx[i]).zfill(3)\n",
    "    a = np.loadtxt('C:/Users/gong/Documents/learning/TSA/project/Data/F_Interictal/c_F'+t+'.txt')\n",
    "    a = np.expand_dims(a,1)\n",
    "    score = [remodel_z.score(a), remodel_o.score(a), remodel_f.score(a),remodel_n.score(a), remodel_s.score(a)]\n",
    "    if(np.argmax(score)==2 or np.argmax(score)==3):\n",
    "        right_num+=1\n",
    "for i in range(20):\n",
    "    t = str(test_idx[i]).zfill(3)\n",
    "    a = np.loadtxt('C:/Users/gong/Documents/learning/TSA/project/Data/N_Interictal/c_N'+t+'.txt')\n",
    "    a = np.expand_dims(a,1)\n",
    "    score = [remodel_z.score(a), remodel_o.score(a), remodel_f.score(a),remodel_n.score(a), remodel_s.score(a)]\n",
    "    if(np.argmax(score)==2 or np.argmax(score)==3):\n",
    "        right_num+=1\n",
    "for i in range(20):\n",
    "    t = str(test_idx[i]).zfill(3)\n",
    "    a = np.loadtxt('C:/Users/gong/Documents/learning/TSA/project/Data/S_Ictal/c_S'+t+'.txt')\n",
    "    a = np.expand_dims(a,1)\n",
    "    score = [remodel_z.score(a), remodel_o.score(a), remodel_f.score(a),remodel_n.score(a), remodel_s.score(a)]\n",
    "    if(np.argmax(score)==4):\n",
    "        right_num+=1"
   ]
  },
  {
   "cell_type": "code",
   "execution_count": null,
   "metadata": {
    "collapsed": true
   },
   "outputs": [],
   "source": [
    "print(right_num/100)"
   ]
  },
  {
   "cell_type": "markdown",
   "metadata": {},
   "source": [
    "## Cross Validation"
   ]
  },
  {
   "cell_type": "code",
   "execution_count": 4,
   "metadata": {},
   "outputs": [],
   "source": [
    "def get_train_data(n_samples,idx):\n",
    "    dat_health = np.zeros([4097*2*n_samples, 1])\n",
    "    for i in range(n_samples):\n",
    "        t = str(idx[i]).zfill(3)\n",
    "        a = np.loadtxt('Z/Z'+t+'.txt')  #healthy\n",
    "        a = np.expand_dims(a,1)\n",
    "        dat_health[(i)*4097 : (i+1)*4097,:]=a\n",
    "\n",
    "    for i in range(n_samples):\n",
    "        t = str(idx[i]).zfill(3)\n",
    "        a = np.loadtxt('O/O'+t+'.txt')  #healthy\n",
    "        a = np.expand_dims(a,1)\n",
    "        dat_health[(i+n_samples)*4097 : (i+n_samples+1)*4097,:]=a\n",
    "\n",
    "\n",
    "\n",
    "    dat_inter = np.zeros([4097*n_samples*2, 1])\n",
    "    for i in range(n_samples):\n",
    "        t = str(idx[i]).zfill(3)\n",
    "        #a = np.loadtxt('C:/Users/gong/Documents/learning/TSA/project/Data/F_Interictal/c_F'+t+'.txt')\n",
    "        a = np.loadtxt('F/F'+t+'.txt')\n",
    "        a = np.expand_dims(a,1)\n",
    "        dat_inter[(i)*4097 : (i+1)*4097,:]=a\n",
    "    for i in range(n_samples):\n",
    "        t = str(idx[i]).zfill(3)\n",
    "        #a = np.loadtxt('C:/Users/gong/Documents/learning/TSA/project/Data/N_Interictal/c_N'+t+'.txt')\n",
    "        a = np.loadtxt('N/N'+t+'.TXT')\n",
    "        a = np.expand_dims(a,1)\n",
    "        dat_inter[(i+n_samples)*4097 : (i+n_samples+1)*4097,:]=a\n",
    "\n",
    "\n",
    "\n",
    "    dat_ict = np.zeros([4097*n_samples, 1])\n",
    "    for i in range(n_samples):\n",
    "        t = str(idx[i]).zfill(3)\n",
    "        #a = np.loadtxt('C:/Users/gong/Documents/learning/TSA/project/Data/S_Ictal/c_S'+t+'.txt')\n",
    "        a = np.loadtxt('S/S'+t+'.txt')\n",
    "        a = np.expand_dims(a,1)\n",
    "        dat_ict[(i)*4097 : (i+1)*4097,:]=a\n",
    "    \n",
    "    return dat_health,dat_inter,dat_ict\n",
    "\n",
    "\n",
    "def build_model(n_sample,dat_health,dat_inter,dat_ict,n_components=4,covariance_type='diag',n_iter=2000):\n",
    "    remodel_health = hmm.GaussianHMM(n_components=n_components, covariance_type=covariance_type, n_iter=n_iter)\n",
    "    remodel_health.fit(dat_health, [4097]*2*n_sample) \n",
    "    remodel_inter = hmm.GaussianHMM(n_components=n_components, covariance_type=covariance_type, n_iter=n_iter)\n",
    "    remodel_inter.fit(dat_inter, [4097]*2*n_sample) \n",
    "    remodel_ict = hmm.GaussianHMM(n_components=n_components, covariance_type=covariance_type, n_iter=n_iter)\n",
    "    remodel_ict.fit(dat_ict, [4097]*n_sample) \n",
    "    return remodel_health,remodel_inter,remodel_ict\n",
    "    \n",
    "def accuracy_score(n_sample,idx,remodel_health,remodel_inter,remodel_ict):\n",
    "    right_num = 0\n",
    "    right_sum_healthy = 0\n",
    "    right_sum_Interictal = 0\n",
    "    right_sum_Ictal = 0\n",
    "    for i in range(n_sample):\n",
    "        t = str(idx[i]).zfill(3)\n",
    "        a = np.loadtxt('Z/Z'+t+'.txt')\n",
    "        a = np.expand_dims(a,1)\n",
    "        score = [remodel_health.score(a), remodel_inter.score(a), remodel_ict.score(a)]\n",
    "        if(np.argmax(score)==0):\n",
    "            right_num+=1\n",
    "            right_sum_healthy!=1\n",
    "    for i in range(n_sample):    \n",
    "        t = str(idx[i]).zfill(3)\n",
    "        a = np.loadtxt('O/O'+t+'.txt')\n",
    "        a = np.expand_dims(a,1)\n",
    "        score = [remodel_health.score(a), remodel_inter.score(a), remodel_ict.score(a)]\n",
    "        if(np.argmax(score)==0):\n",
    "            right_num+=1\n",
    "            right_sum_healthy+=1\n",
    "    for i in range(n_sample):\n",
    "        t = str(idx[i]).zfill(3)\n",
    "        a = np.loadtxt('F/F'+t+'.txt')\n",
    "        a = np.expand_dims(a,1)\n",
    "        score = [remodel_health.score(a), remodel_inter.score(a), remodel_ict.score(a)]\n",
    "        if(np.argmax(score)==1):\n",
    "            right_num+=1\n",
    "            right_sum_Interictal+=1\n",
    "    for i in range(n_sample):\n",
    "        t = str(idx[i]).zfill(3)\n",
    "        a = np.loadtxt('N/N'+t+'.TXT')\n",
    "        a = np.expand_dims(a,1)\n",
    "        score = [remodel_health.score(a), remodel_inter.score(a), remodel_ict.score(a)]\n",
    "        if(np.argmax(score)==1):\n",
    "            right_num+=1\n",
    "            right_sum_Interictal+=1\n",
    "    for i in range(n_sample):\n",
    "        t = str(idx[i]).zfill(3)\n",
    "        a = np.loadtxt('S/S'+t+'.txt')\n",
    "        a = np.expand_dims(a,1)\n",
    "        score = [remodel_health.score(a), remodel_inter.score(a), remodel_ict.score(a)]\n",
    "        if(np.argmax(score)==2):\n",
    "            right_num+=1\n",
    "            right_sum_Ictal+=1\n",
    "    return right_num/(n_sample*5),right_sum_healthy/(n_sample*2),right_sum_Interictal/(n_sample*2),right_sum_Ictal/n_sample"
   ]
  },
  {
   "cell_type": "code",
   "execution_count": 6,
   "metadata": {},
   "outputs": [],
   "source": [
    "dat_health,dat_inter,dat_ict = get_train_data(n_samples=80,idx=idx)"
   ]
  },
  {
   "cell_type": "code",
   "execution_count": 9,
   "metadata": {},
   "outputs": [
    {
     "name": "stdout",
     "output_type": "stream",
     "text": [
      "accuracy: 0.7375\n",
      "accuracy_healthy: 0.46875\n",
      "accuracy_interictal: 0.53125\n",
      "accuracy_ictal: 0.9375\n",
      "accuracy: 0.6\n",
      "accuracy_healthy: 0.375\n",
      "accuracy_interictal: 0.4375\n",
      "accuracy_ictal: 0.75\n",
      "accuracy: 0.7\n",
      "accuracy_healthy: 0.4375\n",
      "accuracy_interictal: 0.375\n",
      "accuracy_ictal: 1.0\n",
      "accuracy: 0.675\n",
      "accuracy_healthy: 0.4375\n",
      "accuracy_interictal: 0.5\n",
      "accuracy_ictal: 0.8125\n",
      "accuracy: 0.675\n",
      "accuracy_healthy: 0.46875\n",
      "accuracy_interictal: 0.34375\n",
      "accuracy_ictal: 0.875\n"
     ]
    }
   ],
   "source": [
    "from sklearn.model_selection import KFold\n",
    "kf = KFold(n_splits=5,shuffle=True)\n",
    "Acc = []\n",
    "Acc_healthy = []\n",
    "Acc_inter = []\n",
    "Acc_ict = []\n",
    "for train_index, val_index in kf.split(idx):\n",
    "    train_index = np.array(idx)[train_index]\n",
    "    val_index = np.array(idx)[val_index]\n",
    "    dat_health,dat_inter,dat_ict = get_train_data(n_samples=len(train_index),idx=train_index)\n",
    "    remodel_health,remodel_inter,remodel_ict = build_model(n_sample=len(train_index),dat_health=dat_health,dat_inter=dat_inter,dat_ict=dat_ict,n_components=4,covariance_type='diag',n_iter=2000)\n",
    "    acc,acc_healthy,acc_inter,acc_ict = accuracy_score(n_sample=len(val_index),idx=val_index,remodel_health=remodel_health,remodel_inter=remodel_inter,remodel_ict=remodel_ict)\n",
    "    print('accuracy: ' + str(acc))\n",
    "    print('accuracy_healthy: ' + str(acc_healthy))\n",
    "    print('accuracy_interictal: ' + str(acc_inter))\n",
    "    print('accuracy_ictal: ' + str(acc_ict))\n",
    "    Acc.append(acc)\n",
    "    Acc_healthy.append(acc_healthy)\n",
    "    Acc_inter.append(acc_inter)\n",
    "    Acc_ict.append(acc_ict)"
   ]
  },
  {
   "cell_type": "code",
   "execution_count": 10,
   "metadata": {},
   "outputs": [
    {
     "data": {
      "text/plain": [
       "[0.7375, 0.6, 0.7, 0.675, 0.675]"
      ]
     },
     "execution_count": 10,
     "metadata": {},
     "output_type": "execute_result"
    }
   ],
   "source": [
    "Acc"
   ]
  },
  {
   "cell_type": "code",
   "execution_count": 11,
   "metadata": {},
   "outputs": [
    {
     "data": {
      "text/plain": [
       "0.6774999999999999"
      ]
     },
     "execution_count": 11,
     "metadata": {},
     "output_type": "execute_result"
    }
   ],
   "source": [
    "np.mean(Acc)"
   ]
  },
  {
   "cell_type": "markdown",
   "metadata": {},
   "source": [
    "(n_components=4, covariance_type=\"diag\", n_iter=2000)"
   ]
  },
  {
   "cell_type": "code",
   "execution_count": 6,
   "metadata": {},
   "outputs": [],
   "source": [
    "def hmm_cv(k,idx,n_components=4, covariance_type=\"diag\", n_iter=2000):\n",
    "    kf = KFold(n_splits=k,shuffle=True)\n",
    "    Acc = []\n",
    "    Acc_healthy = []\n",
    "    Acc_inter = []\n",
    "    Acc_ict = []\n",
    "    i=0\n",
    "    for train_index, val_index in kf.split(idx):\n",
    "        i+=1\n",
    "        train_index = np.array(idx)[train_index]\n",
    "        val_index = np.array(idx)[val_index]\n",
    "        dat_health,dat_inter,dat_ict = get_train_data(n_samples=len(train_index),idx=train_index)\n",
    "        remodel_health,remodel_inter,remodel_ict = build_model(n_sample=len(train_index),dat_health=dat_health,dat_inter=dat_inter,dat_ict=dat_ict,n_components=n_components, covariance_type=covariance_type,n_iter=n_iter)\n",
    "        acc,acc_healthy,acc_inter,acc_ict = accuracy_score(n_sample=len(val_index),idx=val_index,remodel_health=remodel_health,remodel_inter=remodel_inter,remodel_ict=remodel_ict)\n",
    "        print('fold {}'.format(i))\n",
    "        print('accuracy: ' + str(acc))\n",
    "        print('accuracy_healthy: ' + str(acc_healthy))\n",
    "        print('accuracy_interictal: ' + str(acc_inter))\n",
    "        print('accuracy_ictal: ' + str(acc_ict))\n",
    "        Acc.append(acc)\n",
    "        Acc_healthy.append(acc_healthy)\n",
    "        Acc_inter.append(acc_inter)\n",
    "        Acc_ict.append(acc_ict)\n",
    "    return np.mean(Acc),np.mean(Acc_healthy),np.mean(Acc_inter),np.mean(Acc_ict)"
   ]
  },
  {
   "cell_type": "code",
   "execution_count": 14,
   "metadata": {},
   "outputs": [
    {
     "name": "stdout",
     "output_type": "stream",
     "text": [
      "fold 1\n",
      "accuracy: 0.7375\n",
      "accuracy_healthy: 0.5\n",
      "accuracy_interictal: 0.53125\n",
      "accuracy_ictal: 1.0\n",
      "fold 2\n",
      "accuracy: 0.675\n",
      "accuracy_healthy: 0.46875\n",
      "accuracy_interictal: 0.4375\n",
      "accuracy_ictal: 0.875\n",
      "fold 3\n",
      "accuracy: 0.75\n",
      "accuracy_healthy: 0.4375\n",
      "accuracy_interictal: 0.59375\n",
      "accuracy_ictal: 0.875\n",
      "fold 4\n",
      "accuracy: 0.7875\n",
      "accuracy_healthy: 0.46875\n",
      "accuracy_interictal: 0.6875\n",
      "accuracy_ictal: 0.9375\n",
      "fold 5\n",
      "accuracy: 0.7125\n",
      "accuracy_healthy: 0.4375\n",
      "accuracy_interictal: 0.625\n",
      "accuracy_ictal: 0.8125\n"
     ]
    }
   ],
   "source": [
    "acc_5,acc_health_5,acc_inter_5,acc_ict_5 = hmm_cv(5,idx,n_components=5)"
   ]
  },
  {
   "cell_type": "code",
   "execution_count": 5,
   "metadata": {},
   "outputs": [],
   "source": [
    "from scipy import signal\n",
    "\n",
    "fs_Hz = 173.61\n",
    "# create the 50 Hz filter\n",
    "bp_stop_Hz = np.array([49, 51.0])\n",
    "b_sig, a_sig = signal.butter(2,bp_stop_Hz/(fs_Hz / 2.0), 'bandstop')"
   ]
  },
  {
   "cell_type": "code",
   "execution_count": null,
   "metadata": {},
   "outputs": [],
   "source": [
    "a = signal.lfilter(b_sig, a_sig, a)"
   ]
  },
  {
   "cell_type": "code",
   "execution_count": 17,
   "metadata": {},
   "outputs": [
    {
     "data": {
      "text/plain": [
       "array([[ 11.40125557],\n",
       "       [ 20.90230187],\n",
       "       [ 33.25366207],\n",
       "       ...,\n",
       "       [ 49.40544078],\n",
       "       [ -3.80041852],\n",
       "       [-53.2058593 ]])"
      ]
     },
     "execution_count": 17,
     "metadata": {},
     "output_type": "execute_result"
    }
   ],
   "source": [
    "signal.lfilter(b_sig, a_sig, dat_health)"
   ]
  },
  {
   "cell_type": "code",
   "execution_count": 19,
   "metadata": {},
   "outputs": [
    {
     "name": "stdout",
     "output_type": "stream",
     "text": [
      "accuracy: 0.675\n",
      "accuracy_healthy: 0.40625\n",
      "accuracy_interictal: 0.46875\n",
      "accuracy_ictal: 0.9375\n",
      "accuracy: 0.7125\n",
      "accuracy_healthy: 0.46875\n",
      "accuracy_interictal: 0.5\n",
      "accuracy_ictal: 0.875\n",
      "accuracy: 0.675\n",
      "accuracy_healthy: 0.4375\n",
      "accuracy_interictal: 0.40625\n",
      "accuracy_ictal: 0.9375\n",
      "accuracy: 0.7\n",
      "accuracy_healthy: 0.4375\n",
      "accuracy_interictal: 0.46875\n",
      "accuracy_ictal: 0.875\n",
      "accuracy: 0.625\n",
      "accuracy_healthy: 0.40625\n",
      "accuracy_interictal: 0.3125\n",
      "accuracy_ictal: 0.8125\n"
     ]
    }
   ],
   "source": [
    "## \n",
    "from sklearn.model_selection import KFold\n",
    "kf = KFold(n_splits=5,shuffle=True)\n",
    "Acc = []\n",
    "Acc_healthy = []\n",
    "Acc_inter = []\n",
    "Acc_ict = []\n",
    "for train_index, val_index in kf.split(idx):\n",
    "    train_index = np.array(idx)[train_index]\n",
    "    val_index = np.array(idx)[val_index]\n",
    "    dat_health,dat_inter,dat_ict = get_train_data(n_samples=len(train_index),idx=train_index)\n",
    "    #dat_health = signal.lfilter(b_sig, a_sig, dat_health)\n",
    "    #dat_inter = signal.lfilter(b_sig, a_sig, dat_inter)\n",
    "    #dat_ict = signal.lfilter(b_sig, a_sig, dat_ict)\n",
    "    remodel_health,remodel_inter,remodel_ict = build_model(n_sample=len(train_index),dat_health=dat_health,dat_inter=dat_inter,dat_ict=dat_ict,n_components=4,covariance_type='diag',n_iter=2000)\n",
    "    acc,acc_healthy,acc_inter,acc_ict = accuracy_score(n_sample=len(val_index),idx=val_index,remodel_health=remodel_health,remodel_inter=remodel_inter,remodel_ict=remodel_ict)\n",
    "    print('accuracy: ' + str(acc))\n",
    "    print('accuracy_healthy: ' + str(acc_healthy))\n",
    "    print('accuracy_interictal: ' + str(acc_inter))\n",
    "    print('accuracy_ictal: ' + str(acc_ict))\n",
    "    Acc.append(acc)\n",
    "    Acc_healthy.append(acc_healthy)\n",
    "    Acc_inter.append(acc_inter)\n",
    "    Acc_ict.append(acc_ict)"
   ]
  },
  {
   "cell_type": "code",
   "execution_count": 20,
   "metadata": {},
   "outputs": [
    {
     "data": {
      "text/plain": [
       "[0.675, 0.7125, 0.675, 0.7, 0.625]"
      ]
     },
     "execution_count": 20,
     "metadata": {},
     "output_type": "execute_result"
    }
   ],
   "source": [
    "Acc"
   ]
  },
  {
   "cell_type": "code",
   "execution_count": 21,
   "metadata": {},
   "outputs": [
    {
     "name": "stdout",
     "output_type": "stream",
     "text": [
      "accuracy: 0.75\n",
      "accuracy_healthy: 0.4375\n",
      "accuracy_interictal: 0.59375\n",
      "accuracy_ictal: 0.875\n",
      "accuracy: 0.7125\n",
      "accuracy_healthy: 0.46875\n",
      "accuracy_interictal: 0.4375\n",
      "accuracy_ictal: 0.9375\n",
      "accuracy: 0.725\n",
      "accuracy_healthy: 0.40625\n",
      "accuracy_interictal: 0.46875\n",
      "accuracy_ictal: 1.0\n",
      "accuracy: 0.675\n",
      "accuracy_healthy: 0.40625\n",
      "accuracy_interictal: 0.5\n",
      "accuracy_ictal: 0.8125\n",
      "accuracy: 0.675\n",
      "accuracy_healthy: 0.4375\n",
      "accuracy_interictal: 0.375\n",
      "accuracy_ictal: 0.9375\n"
     ]
    }
   ],
   "source": [
    "from sklearn.model_selection import KFold\n",
    "kf = KFold(n_splits=5,shuffle=True)\n",
    "Acc = []\n",
    "Acc_healthy = []\n",
    "Acc_inter = []\n",
    "Acc_ict = []\n",
    "for train_index, val_index in kf.split(idx):\n",
    "    train_index = np.array(idx)[train_index]\n",
    "    val_index = np.array(idx)[val_index]\n",
    "    dat_health,dat_inter,dat_ict = get_train_data(n_samples=len(train_index),idx=train_index)\n",
    "    dat_health = signal.lfilter(b_sig, a_sig, dat_health)\n",
    "    dat_inter = signal.lfilter(b_sig, a_sig, dat_inter)\n",
    "    dat_ict = signal.lfilter(b_sig, a_sig, dat_ict)\n",
    "    remodel_health,remodel_inter,remodel_ict = build_model(n_sample=len(train_index),dat_health=dat_health,dat_inter=dat_inter,dat_ict=dat_ict,n_components=4,covariance_type='spherical',n_iter=20)\n",
    "    acc,acc_healthy,acc_inter,acc_ict = accuracy_score(n_sample=len(val_index),idx=val_index,remodel_health=remodel_health,remodel_inter=remodel_inter,remodel_ict=remodel_ict)\n",
    "    print('accuracy: ' + str(acc))\n",
    "    print('accuracy_healthy: ' + str(acc_healthy))\n",
    "    print('accuracy_interictal: ' + str(acc_inter))\n",
    "    print('accuracy_ictal: ' + str(acc_ict))\n",
    "    Acc.append(acc)\n",
    "    Acc_healthy.append(acc_healthy)\n",
    "    Acc_inter.append(acc_inter)\n",
    "    Acc_ict.append(acc_ict)"
   ]
  },
  {
   "cell_type": "code",
   "execution_count": 8,
   "metadata": {},
   "outputs": [
    {
     "name": "stdout",
     "output_type": "stream",
     "text": [
      "fold 1\n",
      "accuracy: 0.6125\n",
      "accuracy_healthy: 0.4375\n",
      "accuracy_interictal: 0.40625\n",
      "accuracy_ictal: 0.75\n",
      "fold 2\n",
      "accuracy: 0.7125\n",
      "accuracy_healthy: 0.40625\n",
      "accuracy_interictal: 0.4375\n",
      "accuracy_ictal: 1.0\n",
      "fold 3\n",
      "accuracy: 0.775\n",
      "accuracy_healthy: 0.46875\n",
      "accuracy_interictal: 0.53125\n",
      "accuracy_ictal: 1.0\n",
      "fold 4\n",
      "accuracy: 0.675\n",
      "accuracy_healthy: 0.5\n",
      "accuracy_interictal: 0.53125\n",
      "accuracy_ictal: 0.6875\n",
      "fold 5\n",
      "accuracy: 0.6125\n",
      "accuracy_healthy: 0.375\n",
      "accuracy_interictal: 0.375\n",
      "accuracy_ictal: 0.9375\n"
     ]
    },
    {
     "data": {
      "text/plain": [
       "(0.6775, 0.4375, 0.45625, 0.875)"
      ]
     },
     "execution_count": 8,
     "metadata": {},
     "output_type": "execute_result"
    }
   ],
   "source": [
    "from sklearn.model_selection import KFold\n",
    "hmm_cv(5,idx,covariance_type='spherical')"
   ]
  },
  {
   "cell_type": "code",
   "execution_count": null,
   "metadata": {},
   "outputs": [
    {
     "name": "stdout",
     "output_type": "stream",
     "text": [
      "fold 1\n",
      "accuracy: 0.6875\n",
      "accuracy_healthy: 0.375\n",
      "accuracy_interictal: 0.4375\n",
      "accuracy_ictal: 0.9375\n",
      "fold 2\n",
      "accuracy: 0.7125\n",
      "accuracy_healthy: 0.5\n",
      "accuracy_interictal: 0.5\n",
      "accuracy_ictal: 0.875\n"
     ]
    }
   ],
   "source": [
    "hmm_cv(5,idx,covariance_type='full')"
   ]
  },
  {
   "cell_type": "code",
   "execution_count": null,
   "metadata": {},
   "outputs": [],
   "source": []
  }
 ],
 "metadata": {
  "kernelspec": {
   "display_name": "Python 3",
   "language": "python",
   "name": "python3"
  },
  "language_info": {
   "codemirror_mode": {
    "name": "ipython",
    "version": 3
   },
   "file_extension": ".py",
   "mimetype": "text/x-python",
   "name": "python",
   "nbconvert_exporter": "python",
   "pygments_lexer": "ipython3",
   "version": "3.7.0"
  }
 },
 "nbformat": 4,
 "nbformat_minor": 2
}
